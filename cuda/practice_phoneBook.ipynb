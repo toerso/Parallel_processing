{
  "nbformat": 4,
  "nbformat_minor": 0,
  "metadata": {
    "colab": {
      "provenance": [],
      "gpuType": "T4"
    },
    "kernelspec": {
      "name": "python3",
      "display_name": "Python 3"
    },
    "language_info": {
      "name": "python"
    },
    "accelerator": "GPU"
  },
  "cells": [
    {
      "cell_type": "code",
      "execution_count": null,
      "metadata": {
        "colab": {
          "base_uri": "https://localhost:8080/"
        },
        "id": "1gM96WnVtBjS",
        "outputId": "bec54f18-75a3-4b94-fe3a-eaab9367ebb5"
      },
      "outputs": [
        {
          "output_type": "stream",
          "name": "stdout",
          "text": [
            "Overwriting phonebook_search.cu\n"
          ]
        }
      ],
      "source": [
        "%%writefile phonebook_search.cu\n",
        "#include <bits/stdc++.h>\n",
        "using namespace std;\n",
        "#include <cuda.h>\n",
        "\n",
        "struct Contact{\n",
        "    char name[65];\n",
        "    char phone_number[65];\n",
        "};\n",
        "\n",
        "\n",
        "string getInput(ifstream& file){\n",
        "    string ans;\n",
        "    char c;\n",
        "    int readSuru = 0;\n",
        "    while(file.get(c)){\n",
        "        if(c == '\\\"'){\n",
        "            if(readSuru == 1) break;\n",
        "            readSuru = 1;\n",
        "        }else{\n",
        "            if(readSuru){\n",
        "                ans.push_back(c);\n",
        "            }\n",
        "        }\n",
        "    }\n",
        "    return ans;\n",
        "}\n",
        "\n",
        "__device__ bool check(char* str1, char* str2){\n",
        "    for(int i = 0; str1[i] != '\\0'; i++){\n",
        "        int flag = 1;\n",
        "        for(int j = 0; str2[j] != '\\0' ; j++){\n",
        "            if(str1[i + j] != str2[j]){\n",
        "                flag = 0;\n",
        "                break;\n",
        "            }\n",
        "        }\n",
        "        if(flag == 1) return true;\n",
        "    }\n",
        "    return false;\n",
        "}\n",
        "\n",
        "\n",
        "__global__ void myKernel(Contact* phoneBook, char* pat, int offset){\n",
        "    int threadNumber = threadIdx.x + offset;\n",
        "    if(check(phoneBook[threadNumber].name, pat)){\n",
        "        printf(\"%s %s\\n\", phoneBook[threadNumber].name, phoneBook[threadNumber].phone_number);\n",
        "    }\n",
        "}\n",
        "\n",
        "\n",
        "\n",
        "int main(int argc, char* argv[])\n",
        "{\n",
        "    int threadLimit = atoi(argv[2]);\n",
        "\n",
        "    ifstream myfile(\"one.txt\");\n",
        "    vector<Contact> phoneBook;\n",
        "\n",
        "    int count = 0;\n",
        "\n",
        "    while(myfile.peek() != EOF){\n",
        "\n",
        "        if(count > 10000) break;\n",
        "        count++;\n",
        "\n",
        "        string name = getInput(myfile);\n",
        "        string phoneNum = getInput(myfile);\n",
        "\n",
        "        Contact c;\n",
        "        strcpy(c.name, name.c_str());\n",
        "        strcpy(c.phone_number, phoneNum.c_str());\n",
        "\n",
        "        phoneBook.push_back(c);\n",
        "    }\n",
        "\n",
        "    string search_name = argv[1];\n",
        "    char pat[65];\n",
        "    strcpy(pat, search_name.c_str());\n",
        "\n",
        "\n",
        "    char* d_pat;\n",
        "    cudaMalloc(&d_pat, 65); //memory allocation\n",
        "    cudaMemcpy(d_pat, pat, 65, cudaMemcpyHostToDevice); //copying to device\n",
        "\n",
        "    int n = phoneBook.size();\n",
        "    Contact* d_phoneBook;\n",
        "    cudaMalloc(&d_phoneBook, n*sizeof(Contact));\n",
        "    cudaMemcpy(d_phoneBook, phoneBook.data(), n * sizeof(Contact), cudaMemcpyHostToDevice);\n",
        "\n",
        "\n",
        "    int bakiAche = n;\n",
        "    int offset = 0;\n",
        "    while(bakiAche > 0){\n",
        "        int batchSize = min(threadLimit, bakiAche);\n",
        "        myKernel<<<1,batchSize>>>(d_phoneBook, d_pat, offset);\n",
        "        cudaDeviceSynchronize();\n",
        "\n",
        "        bakiAche -= batchSize;\n",
        "        offset += batchSize;\n",
        "    }\n",
        "\n",
        "}"
      ]
    },
    {
      "cell_type": "code",
      "source": [
        "!nvcc -arch=sm_75 phonebook_search.cu -o phonebook_search"
      ],
      "metadata": {
        "id": "0O_5jKh-tNw9"
      },
      "execution_count": null,
      "outputs": []
    },
    {
      "cell_type": "code",
      "source": [
        "!time ./phonebook_search MUMU 1 > output.txt"
      ],
      "metadata": {
        "id": "P2oB63uZvb5g",
        "colab": {
          "base_uri": "https://localhost:8080/"
        },
        "outputId": "054836d7-d53b-424b-fb3c-4d1c6ca96efd"
      },
      "execution_count": null,
      "outputs": [
        {
          "output_type": "stream",
          "name": "stdout",
          "text": [
            "\n",
            "real\t0m1.951s\n",
            "user\t0m1.697s\n",
            "sys\t0m0.240s\n"
          ]
        }
      ]
    },
    {
      "cell_type": "code",
      "source": [
        "!time ./phonebook_search MUMU 2 > output.txt"
      ],
      "metadata": {
        "id": "67MqoXmCtOnM",
        "colab": {
          "base_uri": "https://localhost:8080/"
        },
        "outputId": "55efa615-557d-4523-8ab6-076569022b2b"
      },
      "execution_count": null,
      "outputs": [
        {
          "output_type": "stream",
          "name": "stdout",
          "text": [
            "\n",
            "real\t0m1.380s\n",
            "user\t0m1.113s\n",
            "sys\t0m0.248s\n"
          ]
        }
      ]
    },
    {
      "cell_type": "code",
      "source": [
        "!time ./phonebook_search MUMU 5 > output.txt"
      ],
      "metadata": {
        "colab": {
          "base_uri": "https://localhost:8080/"
        },
        "id": "hXhagRvfDWh-",
        "outputId": "e8ebb52a-613b-4706-fb77-e05e79cba260"
      },
      "execution_count": null,
      "outputs": [
        {
          "output_type": "stream",
          "name": "stdout",
          "text": [
            "\n",
            "real\t0m1.009s\n",
            "user\t0m0.759s\n",
            "sys\t0m0.245s\n"
          ]
        }
      ]
    },
    {
      "cell_type": "code",
      "source": [
        "!time ./phonebook_search MUMU 10 > output.txt"
      ],
      "metadata": {
        "colab": {
          "base_uri": "https://localhost:8080/"
        },
        "id": "3lrmy0bxDZKT",
        "outputId": "28fd56d7-8aea-4333-cbfd-4de092ab3392"
      },
      "execution_count": null,
      "outputs": [
        {
          "output_type": "stream",
          "name": "stdout",
          "text": [
            "\n",
            "real\t0m0.854s\n",
            "user\t0m0.610s\n",
            "sys\t0m0.237s\n"
          ]
        }
      ]
    },
    {
      "cell_type": "code",
      "source": [],
      "metadata": {
        "id": "H4rbL06YDs-o"
      },
      "execution_count": null,
      "outputs": []
    }
  ]
}