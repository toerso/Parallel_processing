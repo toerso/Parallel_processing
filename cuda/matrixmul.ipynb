{
  "cells": [
    {
      "cell_type": "markdown",
      "metadata": {
        "id": "Zy8fq4OHrvlr"
      },
      "source": [
        "X, A, B\n",
        "X => C1 = A1 * B1\n",
        "C2 = A2 * B2"
      ]
    },
    {
      "cell_type": "code",
      "execution_count": null,
      "metadata": {
        "colab": {
          "base_uri": "https://localhost:8080/"
        },
        "id": "k1kzz-4upUwX",
        "outputId": "3dbb8557-2faf-4fd3-ccf8-60cb4fe12973"
      },
      "outputs": [
        {
          "name": "stdout",
          "output_type": "stream",
          "text": [
            "Overwriting asif.cu\n"
          ]
        }
      ],
      "source": [
        "%%writefile matmul.cu\n",
        "#include <iostream>\n",
        "#include <cuda_runtime.h>\n",
        "#include <fstream>\n",
        "\n",
        "using namespace std;\n",
        "\n",
        "__global__ void matrixMul(float* A, float* B, float* C, int M, int N, int P, int offset) {\n",
        "    int k = threadIdx.x + offset;\n",
        "\n",
        "    float* a = A + k * M * N;\n",
        "    float* b = B + k * N * P;\n",
        "    float* c = C + k * M * P;\n",
        "\n",
        "    for(int i = 0; i < M; i++) {\n",
        "        for(int j = 0; j < N; j++) {\n",
        "            for(int l = 0; l < P; l++) {\n",
        "                //c[i][l] += a[i][j] * b[j][l];\n",
        "                c[i * P + l] = a[i * N + j] * b[j * P + l];\n",
        "            }\n",
        "        }\n",
        "    }\n",
        "}\n",
        "\n",
        "int main(int argc, char *argv[]) {\n",
        "\n",
        "    int T = atoi(argv[1]); //koyta thread use korte parbo\n",
        "    int K = atoi(argv[2]); //koita matrix gun\n",
        "\n",
        "    //100 gun, thread 10,\n",
        "\n",
        "    int M = 400, N = 400, P = 400;\n",
        "\n",
        "    int SizeA = M * N * K;\n",
        "    int SizeB = N * P * K;\n",
        "    int SizeC = M * P * K;\n",
        "\n",
        "    //memory alocate (cpu allocate)\n",
        "    float *h_A = new float[SizeA];\n",
        "    float *h_B = new float[SizeB];\n",
        "    float *h_C = new float[SizeC];\n",
        "\n",
        "\n",
        "    //malloc (gpu allocate)\n",
        "    float *d_A;\n",
        "    cudaMalloc(&d_A, SizeA * sizeof(float));\n",
        "    float *d_B;\n",
        "    cudaMalloc(&d_B, SizeB * sizeof(float));\n",
        "    float *d_C;\n",
        "    cudaMalloc(&d_C, SizeC * sizeof(float));\n",
        "\n",
        "    //data initialize\n",
        "    for (int i = 0; i < SizeA; i++) {\n",
        "        h_A[i] = rand();\n",
        "    }\n",
        "    for(int i = 0; i < SizeB; i++) {\n",
        "        h_B[i] = rand();\n",
        "    }\n",
        "\n",
        "\n",
        "    //copy from host to device\n",
        "    cudaMemcpy(d_A, h_A, SizeA * sizeof(float), cudaMemcpyHostToDevice);\n",
        "    cudaMemcpy(d_B, h_B, SizeB * sizeof(float), cudaMemcpyHostToDevice);\n",
        "\n",
        "    //cuda process suru\n",
        "    int gunKorteHobe = K;\n",
        "    int offset = 0;\n",
        "    while(gunKorteHobe > 0){\n",
        "\n",
        "        int currentBatch = min(gunKorteHobe, T);\n",
        "\n",
        "        matrixMul<<<1,currentBatch>>>(d_A, d_B, d_C, M, N, P, offset);\n",
        "        cudaDeviceSynchronize();\n",
        "\n",
        "        gunKorteHobe -= currentBatch;\n",
        "        offset += currentBatch;\n",
        "    }\n",
        "\n",
        "    //let's copy back to cpu\n",
        "    cudaMemcpy(h_C, d_C, SizeC * sizeof(float), cudaMemcpyDeviceToHost);\n",
        "\n",
        "    // Save results to file\n",
        "    ofstream fout(\"output.txt\");\n",
        "\n",
        "    if (!fout) {\n",
        "        cerr << \"Error opening output file!\" << endl;\n",
        "        return 1;\n",
        "    }\n",
        "\n",
        "    for (int k = 0; k < K; k++) {\n",
        "        fout << \"Matrix C[\" << k << \"]:\" << endl;\n",
        "        for (int i = 0; i < M; i++) {\n",
        "            for (int j = 0; j < P; j++) {\n",
        "                fout << h_C[k * M * P + i * P + j] << \" \";\n",
        "            }\n",
        "            fout << endl;\n",
        "        }\n",
        "        fout << endl;\n",
        "    }\n",
        "\n",
        "    fout.close();\n",
        "    cout << \"Results written to output.txt\" << endl;\n",
        "\n",
        "\n",
        "    cout << \"All operation done\" << endl;\n",
        "\n",
        "}"
      ]
    },
    {
      "cell_type": "code",
      "execution_count": null,
      "metadata": {
        "id": "goRub2rNpgwE"
      },
      "outputs": [],
      "source": [
        "!nvcc -arch=sm_75 matmul.cu -o matmul"
      ]
    },
    {
      "cell_type": "code",
      "execution_count": null,
      "metadata": {
        "colab": {
          "base_uri": "https://localhost:8080/"
        },
        "id": "cODjrM1npnYz",
        "outputId": "add168b9-7857-4a2f-f783-4c65c5c5bff2"
      },
      "outputs": [
        {
          "name": "stdout",
          "output_type": "stream",
          "text": [
            "All operation done\n",
            "\n",
            "real\t0m29.922s\n",
            "user\t0m29.468s\n",
            "sys\t0m0.283s\n"
          ]
        }
      ],
      "source": [
        "!time ./matmul 1 10 && sleep 2"
      ]
    },
    {
      "cell_type": "code",
      "execution_count": null,
      "metadata": {
        "colab": {
          "base_uri": "https://localhost:8080/"
        },
        "id": "daM-kYWxrc5S",
        "outputId": "c704a5c2-48a6-4895-a2dc-c38e0e128a95"
      },
      "outputs": [
        {
          "name": "stdout",
          "output_type": "stream",
          "text": [
            "All operation done\n",
            "\n",
            "real\t0m12.954s\n",
            "user\t0m12.633s\n",
            "sys\t0m0.228s\n"
          ]
        }
      ],
      "source": [
        "!time ./matmul 3 10 && sleep 2"
      ]
    },
    {
      "cell_type": "code",
      "execution_count": null,
      "metadata": {
        "colab": {
          "base_uri": "https://localhost:8080/"
        },
        "id": "U3AsgHo8Bjkb",
        "outputId": "4a18a02d-e6cc-4fd7-ce0a-bb7ab88627d2"
      },
      "outputs": [
        {
          "name": "stdout",
          "output_type": "stream",
          "text": [
            "All operation done\n",
            "\n",
            "real\t0m8.002s\n",
            "user\t0m7.700s\n",
            "sys\t0m0.229s\n"
          ]
        }
      ],
      "source": [
        "!time ./matmul 7 10 && sleep 2"
      ]
    },
    {
      "cell_type": "code",
      "execution_count": null,
      "metadata": {
        "colab": {
          "base_uri": "https://localhost:8080/"
        },
        "id": "YE3CMm9cB21s",
        "outputId": "886c05a5-3b92-4563-c431-b040a1c925c9"
      },
      "outputs": [
        {
          "name": "stdout",
          "output_type": "stream",
          "text": [
            "All operation done\n",
            "\n",
            "real\t0m5.295s\n",
            "user\t0m5.000s\n",
            "sys\t0m0.223s\n"
          ]
        }
      ],
      "source": [
        "!time ./matmul 10 10 && sleep 2"
      ]
    },
    {
      "cell_type": "code",
      "execution_count": null,
      "metadata": {
        "colab": {
          "base_uri": "https://localhost:8080/"
        },
        "id": "cmWp3mINCADf",
        "outputId": "93f68aef-b5b3-4d8d-fcf2-c867a999bdb9"
      },
      "outputs": [
        {
          "name": "stdout",
          "output_type": "stream",
          "text": [
            "All operation done\n",
            "\n",
            "real\t0m5.251s\n",
            "user\t0m5.026s\n",
            "sys\t0m0.210s\n"
          ]
        }
      ],
      "source": [
        "!time ./matmul 20 10 && sleep 2"
      ]
    }
  ],
  "metadata": {
    "accelerator": "GPU",
    "colab": {
      "gpuType": "T4",
      "provenance": []
    },
    "kernelspec": {
      "display_name": "Python 3",
      "name": "python3"
    },
    "language_info": {
      "name": "python"
    }
  },
  "nbformat": 4,
  "nbformat_minor": 0
}
