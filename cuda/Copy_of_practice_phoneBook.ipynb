{
  "cells": [
    {
      "cell_type": "code",
      "execution_count": 52,
      "metadata": {
        "colab": {
          "base_uri": "https://localhost:8080/"
        },
        "id": "1gM96WnVtBjS",
        "outputId": "31058406-dd33-47f1-9a77-d950e1ec7187"
      },
      "outputs": [
        {
          "name": "stdout",
          "output_type": "stream",
          "text": [
            "Overwriting phonebook_search.cu\n"
          ]
        }
      ],
      "source": [
        "%%writefile phonebook_search.cu\n",
        "#include <bits/stdc++.h>\n",
        "#include <cuda_runtime.h>\n",
        "using namespace std;\n",
        "\n",
        "using namespace std;\n",
        "\n",
        "struct Contact {\n",
        "  char id[50];\n",
        "  char name[50];\n",
        "  char number[50];\n",
        "};\n",
        "\n",
        "__device__ bool check(char* str1, char* str2, int len) {\n",
        "  for(int i = 0; str1[i] != '\\0'; i++) {\n",
        "    int j = 0;\n",
        "\n",
        "    while(str1[i+j] != '\\0' && str2[j] != '\\0' && str1[i+j] == str2[j]) {\n",
        "      j++;\n",
        "    }\n",
        "\n",
        "    if(j == len-1) {\n",
        "      return true;\n",
        "    }\n",
        "\n",
        "  }\n",
        "\n",
        "  return false;\n",
        "}\n",
        "\n",
        "__global__ void searchPhonebook(Contact* phonebook, int num_contacts, char* search_name, int name_length) {\n",
        "  int idx = blockIdx.x * blockDim.x + threadIdx.x;\n",
        "\n",
        "  if(idx < num_contacts) {\n",
        "    if(check(phonebook[idx].name, search_name, name_length)) {\n",
        "      printf(\"%s %s %s\\n\", phonebook[idx].id, phonebook[idx].name, phonebook[idx].number);\n",
        "    }\n",
        "  }\n",
        "\n",
        "}\n",
        "\n",
        "int main(int argc, char* argv[]) {\n",
        "  if(argc != 3) {\n",
        "    cerr << \"Usage: \" << argv[0] << \"  \" << endl;\n",
        "    return 1;\n",
        "  }\n",
        "\n",
        "  string search_name = argv[1];\n",
        "\n",
        "  //cout << search_name << endl;\n",
        "\n",
        "  int num_threads = atoi(argv[2]);\n",
        "\n",
        "  // Mount Google Drive and copy the location\n",
        "  string file_name = \"input.txt\";\n",
        "\n",
        "  vector<Contact> phonebook;\n",
        "\n",
        "  ifstream file(file_name);\n",
        "  if(!file.is_open()) {\n",
        "    cerr << \"Error opening file: \" << file_name << endl;\n",
        "    return 1;\n",
        "  }\n",
        "  else {\n",
        "    Contact contact;\n",
        "    string line;\n",
        "    while(getline(file, line)) {\n",
        "\n",
        "      //Format: \"id\",\"name\",\"phone_number\"\n",
        "      /*\n",
        "      int pos = line.find(\",\");\n",
        "      strcpy(contact.id, line.substr(1, pos-2).c_str());\n",
        "      line = line.substr(pos+1);\n",
        "      pos = line.find(\",\");\n",
        "      strcpy(contact.name, line.substr(1, pos-2).c_str());\n",
        "      strcpy(contact.number, line.substr(pos+2, line.size()-pos-4).c_str());\n",
        "      phonebook.push_back(contact);\n",
        "      */\n",
        "\n",
        "      // Format: \"name\",\"phone_number\"\n",
        "      int pos = line.find(\",\");\n",
        "\n",
        "      // Extract name (without the quotes)\n",
        "      strcpy(contact.name, line.substr(1, pos - 2).c_str());\n",
        "\n",
        "      // Extract number (also without quotes)\n",
        "      strcpy(contact.number, line.substr(pos + 2, line.size() - pos - 4).c_str());\n",
        "\n",
        "      phonebook.push_back(contact);\n",
        "    }\n",
        "\n",
        "    file.close();\n",
        "  }\n",
        "\n",
        "  int num_contacts = phonebook.size();\n",
        "  Contact* device_phonebook;\n",
        "\n",
        "  cudaMalloc((void**)&device_phonebook, sizeof(Contact)*num_contacts);\n",
        "  cudaMemcpy(device_phonebook, phonebook.data(), sizeof(Contact)*num_contacts, cudaMemcpyHostToDevice);\n",
        "\n",
        "  int name_length = search_name.length() + 1;\n",
        "  char* device_search_name;\n",
        "\n",
        "  cudaMalloc((void**)&device_search_name, name_length);\n",
        "  cudaMemcpy(device_search_name, search_name.c_str(), name_length, cudaMemcpyHostToDevice);\n",
        "\n",
        "  for(int i = 0; i < num_contacts; i += num_threads) {\n",
        "    int thread_count = min(num_contacts-i, num_threads);\n",
        "    searchPhonebook<<<1, thread_count>>>(device_phonebook + i, thread_count, device_search_name, name_length);\n",
        "    cudaDeviceSynchronize();\n",
        "  }\n",
        "\n",
        "  cudaFree(device_phonebook);\n",
        "  cudaFree(device_search_name);\n",
        "\n",
        "  return 0;\n",
        "}"
      ]
    },
    {
      "cell_type": "code",
      "execution_count": null,
      "metadata": {
        "colab": {
          "base_uri": "https://localhost:8080/"
        },
        "id": "JWCO-9Xz6Dn8",
        "outputId": "ab91e056-4e0c-4e07-993e-ddac0629f59b"
      },
      "outputs": [
        {
          "name": "stdout",
          "output_type": "stream",
          "text": [
            "Mounted at /content/drive\n"
          ]
        }
      ],
      "source": [
        "from google.colab import drive\n",
        "drive.mount('/content/drive')"
      ]
    },
    {
      "cell_type": "code",
      "execution_count": 53,
      "metadata": {
        "id": "0O_5jKh-tNw9"
      },
      "outputs": [],
      "source": [
        "!nvcc -arch=sm_75 phonebook_search.cu -o phonebook_search"
      ]
    },
    {
      "cell_type": "code",
      "execution_count": 54,
      "metadata": {
        "colab": {
          "base_uri": "https://localhost:8080/"
        },
        "id": "P2oB63uZvb5g",
        "outputId": "c07a14c7-e0f2-41d3-834b-5e2b521ad3eb"
      },
      "outputs": [
        {
          "name": "stdout",
          "output_type": "stream",
          "text": [
            "\n",
            "real\t0m0.132s\n",
            "user\t0m0.012s\n",
            "sys\t0m0.115s\n"
          ]
        }
      ],
      "source": [
        "!time ./phonebook_search AKTER 1 > output.txt"
      ]
    },
    {
      "cell_type": "code",
      "execution_count": null,
      "metadata": {
        "colab": {
          "base_uri": "https://localhost:8080/"
        },
        "id": "67MqoXmCtOnM",
        "outputId": "f19c4165-8b59-4f00-86f2-aa1e923e5fef"
      },
      "outputs": [
        {
          "name": "stdout",
          "output_type": "stream",
          "text": [
            "\n",
            "real\t0m0.183s\n",
            "user\t0m0.011s\n",
            "sys\t0m0.117s\n"
          ]
        }
      ],
      "source": [
        "!time ./phonebook_search MUMU 2 > output.txt"
      ]
    },
    {
      "cell_type": "code",
      "execution_count": null,
      "metadata": {
        "colab": {
          "base_uri": "https://localhost:8080/"
        },
        "id": "hXhagRvfDWh-",
        "outputId": "ab6a6f68-cf0f-46e8-866f-0733ce8470e8"
      },
      "outputs": [
        {
          "name": "stdout",
          "output_type": "stream",
          "text": [
            "\n",
            "real\t0m0.181s\n",
            "user\t0m0.059s\n",
            "sys\t0m0.109s\n"
          ]
        }
      ],
      "source": [
        "!time ./phonebook_search MUMU 5 > output.txt"
      ]
    },
    {
      "cell_type": "code",
      "execution_count": null,
      "metadata": {
        "colab": {
          "base_uri": "https://localhost:8080/"
        },
        "id": "3lrmy0bxDZKT",
        "outputId": "bb0eb458-a839-429c-b55b-72241ba9c8ae"
      },
      "outputs": [
        {
          "name": "stdout",
          "output_type": "stream",
          "text": [
            "\n",
            "real\t0m0.166s\n",
            "user\t0m0.043s\n",
            "sys\t0m0.113s\n"
          ]
        }
      ],
      "source": [
        "!time ./phonebook_search MUMU 10 > output.txt"
      ]
    },
    {
      "cell_type": "code",
      "execution_count": null,
      "metadata": {
        "id": "H4rbL06YDs-o"
      },
      "outputs": [],
      "source": [
        "#include <cuda_runtime.h>"
      ]
    }
  ],
  "metadata": {
    "accelerator": "GPU",
    "colab": {
      "gpuType": "T4",
      "provenance": []
    },
    "kernelspec": {
      "display_name": "Python 3",
      "name": "python3"
    },
    "language_info": {
      "name": "python"
    }
  },
  "nbformat": 4,
  "nbformat_minor": 0
}
