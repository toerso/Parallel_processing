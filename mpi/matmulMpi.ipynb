{
  "nbformat": 4,
  "nbformat_minor": 0,
  "metadata": {
    "colab": {
      "provenance": []
    },
    "kernelspec": {
      "name": "python3",
      "display_name": "Python 3"
    },
    "language_info": {
      "name": "python"
    }
  },
  "cells": [
    {
      "cell_type": "code",
      "execution_count": 14,
      "metadata": {
        "colab": {
          "base_uri": "https://localhost:8080/"
        },
        "id": "CgG2StrP9CSi",
        "outputId": "f89222af-0bc6-48ee-d9ec-3a9be3623d9a"
      },
      "outputs": [
        {
          "output_type": "stream",
          "name": "stdout",
          "text": [
            "Overwriting matmul.cpp\n"
          ]
        }
      ],
      "source": [
        "%%writefile matmul.cpp\n",
        "#include <bits/stdc++.h>\n",
        "#include <mpi.h>\n",
        "\n",
        "using namespace std;\n",
        "\n",
        "//... To compile: mpic++ matrix-multiplication.cpp -o matrix-multiplication\n",
        "//... To run: mpirun -n 3 ./matrix-multiplication\n",
        "\n",
        "int main(int argc, char** argv)\n",
        "{\n",
        "    MPI_Init(&argc, &argv);\n",
        "\n",
        "    int world_size, world_rank;\n",
        "    MPI_Comm_size(MPI_COMM_WORLD, &world_size);\n",
        "    MPI_Comm_rank(MPI_COMM_WORLD, &world_rank);\n",
        "\n",
        "    double start_time = MPI_Wtime();\n",
        "\n",
        "    srand(time(nullptr));\n",
        "\n",
        "    const int K = 9; //... Total Number of matrix\n",
        "    const int M = 4; //... Row of 1st matrix\n",
        "    const int N = 3; //... Column of 1st matrix & Row of 2nd matrix\n",
        "    const int P = 5; //... Column of 2nd matrix\n",
        "\n",
        "    if (K % world_size != 0)\n",
        "    {\n",
        "        cout << \"Number of matrices should be divisible by number of Process\\n\";\n",
        "        MPI_Finalize();\n",
        "        return 0;\n",
        "    }\n",
        "\n",
        "    int X[K][M][N]; //... Array of 1st matrix\n",
        "    int Y[K][N][P]; //... Array of 2nd matrix\n",
        "    int Z[K][M][P]; //... Array of ans matrix\n",
        "\n",
        "    if (!world_rank) //... Rank 0 process will create the matrices\n",
        "    {\n",
        "        for (int k = 0; k < K; k++)\n",
        "        {\n",
        "            //... Generating 1st matrix with random numbers\n",
        "            for (int r = 0; r < M; r++)\n",
        "            {\n",
        "                for (int c = 0; c < N; c++)\n",
        "                {\n",
        "                    X[k][r][c] = rand() % 100;\n",
        "                }\n",
        "            }\n",
        "            //... Generating 2nd matrix with random numbers\n",
        "            for (int r = 0; r < N; r++)\n",
        "            {\n",
        "                for (int c = 0; c < P; c++)\n",
        "                {\n",
        "                    Y[k][r][c] = rand() % 100;\n",
        "                }\n",
        "            }\n",
        "        }\n",
        "    }\n",
        "\n",
        "    MPI_Barrier(MPI_COMM_WORLD);\n",
        "\n",
        "    int size_per_process = K / world_size;\n",
        "    int x[size_per_process][M][N]; //... Local array of 1st matrix\n",
        "    int y[size_per_process][N][P]; //... Local array of 2nd matrix\n",
        "    int z[size_per_process][M][P]; //... Local array of ans matrix\n",
        "\n",
        "    MPI_Scatter(X, size_per_process * M * N, MPI_INT, x, size_per_process * M * N, MPI_INT, 0, MPI_COMM_WORLD);\n",
        "    MPI_Scatter(Y, size_per_process * N * P, MPI_INT, y, size_per_process * N * P, MPI_INT, 0, MPI_COMM_WORLD);\n",
        "\n",
        "    //... Performing matrix multiplication by each process\n",
        "    for (int n = 0; n < size_per_process; n++)\n",
        "    {\n",
        "        for (int r = 0; r < M; r++)\n",
        "        {\n",
        "            for (int c = 0; c < P; c++)\n",
        "            {\n",
        "                z[n][r][c] = 0;\n",
        "                for (int k = 0; k < N; k++)\n",
        "                {\n",
        "                    z[n][r][c] += x[n][r][k] * y[n][k][c];\n",
        "                }\n",
        "            }\n",
        "        }\n",
        "    }\n",
        "\n",
        "    MPI_Barrier(MPI_COMM_WORLD);\n",
        "\n",
        "    MPI_Gather(z, size_per_process * M * P, MPI_INT, Z, size_per_process * M * P, MPI_INT, 0, MPI_COMM_WORLD);\n",
        "\n",
        "    ofstream fout(\"output.txt\");\n",
        "\n",
        "    if (!fout) {\n",
        "        cerr << \"Error opening output file!\" << endl;\n",
        "        return 1;\n",
        "    }\n",
        "\n",
        "    if (!world_rank) //... Rank 0 process will output the results\n",
        "    {\n",
        "        for (int k = 0; k < K; k++)\n",
        "        {\n",
        "            fout << \"Result of the matrix multiplication \" << k + 1 << \":\\n\\n\";\n",
        "            for (int r = 0; r < M; r++)\n",
        "            {\n",
        "                for (int c = 0; c < P; c++)\n",
        "                {\n",
        "                    fout << Z[k][r][c] << \" \";\n",
        "                }\n",
        "                fout << \"\\n\";\n",
        "            }\n",
        "            fout << \"\\n\";\n",
        "        }\n",
        "    }\n",
        "\n",
        "    double finish_time = MPI_Wtime();\n",
        "\n",
        "    MPI_Barrier(MPI_COMM_WORLD);\n",
        "\n",
        "    printf(\"Process %d took %f seconds.\\n\", world_rank, finish_time - start_time);\n",
        "\n",
        "    MPI_Finalize();\n",
        "\n",
        "    return 0;\n",
        "}"
      ]
    },
    {
      "cell_type": "code",
      "source": [
        "!mpic++ matmul.cpp -o matmul"
      ],
      "metadata": {
        "id": "jcRw8yM0-GLq"
      },
      "execution_count": 15,
      "outputs": []
    },
    {
      "cell_type": "code",
      "source": [
        "!mpirun --allow-run-as-root -np 1 ./matmul"
      ],
      "metadata": {
        "colab": {
          "base_uri": "https://localhost:8080/"
        },
        "id": "BMdOV7_h_d92",
        "outputId": "5f973d2d-d4d0-46d9-d4ed-55292e774df0"
      },
      "execution_count": 16,
      "outputs": [
        {
          "output_type": "stream",
          "name": "stdout",
          "text": [
            "Process 0 took 0.000341 seconds.\n"
          ]
        }
      ]
    }
  ]
}