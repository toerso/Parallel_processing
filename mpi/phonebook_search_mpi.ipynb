{
  "nbformat": 4,
  "nbformat_minor": 0,
  "metadata": {
    "colab": {
      "provenance": []
    },
    "kernelspec": {
      "name": "python3",
      "display_name": "Python 3"
    },
    "language_info": {
      "name": "python"
    }
  },
  "cells": [
    {
      "cell_type": "code",
      "execution_count": 2,
      "metadata": {
        "colab": {
          "base_uri": "https://localhost:8080/"
        },
        "id": "bVMgyQDKwwET",
        "outputId": "a9cef591-e1ca-49ac-9490-4fed65eea3ad"
      },
      "outputs": [
        {
          "output_type": "stream",
          "name": "stdout",
          "text": [
            "Writing phonebook_search.cpp\n"
          ]
        }
      ],
      "source": [
        "%%writefile phonebook_search.cpp\n",
        "//Simplified\n",
        "#include <bits/stdc++.h>\n",
        "#include <mpi.h>\n",
        "using namespace std;\n",
        "\n",
        "struct Contact {\n",
        "    string name;\n",
        "    string phone;\n",
        "};\n",
        "\n",
        "void send_string(const string &text, int receiver) {\n",
        "    int len = text.size() + 1;\n",
        "    MPI_Send(&len, 1, MPI_INT, receiver, 1, MPI_COMM_WORLD);\n",
        "    MPI_Send(text.c_str(), len, MPI_CHAR, receiver, 1, MPI_COMM_WORLD);\n",
        "}\n",
        "\n",
        "string receive_string(int sender) {\n",
        "    int len;\n",
        "    MPI_Recv(&len, 1, MPI_INT, sender, 1, MPI_COMM_WORLD, MPI_STATUS_IGNORE);\n",
        "    char *buf = new char[len];\n",
        "    MPI_Recv(buf, len, MPI_CHAR, sender, 1, MPI_COMM_WORLD, MPI_STATUS_IGNORE);\n",
        "    string res(buf);\n",
        "    delete[] buf;\n",
        "    return res;\n",
        "}\n",
        "\n",
        "string vector_to_string(const vector<Contact> &contacts, int start, int end) {\n",
        "    string result;\n",
        "    for (int i = start; i < min((int)contacts.size(), end); i++) {\n",
        "        result += contacts[i].name + \",\" + contacts[i].phone + \"\\n\";\n",
        "    }\n",
        "    return result;\n",
        "}\n",
        "\n",
        "vector<Contact> string_to_contacts(const string &text) {\n",
        "    vector<Contact> contacts;\n",
        "    istringstream iss(text);\n",
        "    string line;\n",
        "    while (getline(iss, line)) {\n",
        "        if (line.empty()) continue;\n",
        "        int comma = line.find(\",\");\n",
        "        if (comma == string::npos) continue;\n",
        "        contacts.push_back({line.substr(0, comma), line.substr(comma + 1)});\n",
        "    }\n",
        "    return contacts;\n",
        "}\n",
        "\n",
        "string check(const Contact &c, const string &search) {\n",
        "    if (c.name.find(search) != string::npos) {\n",
        "        return c.name + \" \" + c.phone + \"\\n\";\n",
        "    }\n",
        "    return \"\";\n",
        "}\n",
        "\n",
        "void read_phonebook(const vector<string> &files, vector<Contact> &contacts) {\n",
        "    for (const string &file : files) {\n",
        "        ifstream f(file);\n",
        "        string line;\n",
        "        while (getline(f, line)) {\n",
        "            if (line.empty()) continue;\n",
        "            int comma = line.find(\",\");\n",
        "            if (comma == string::npos) continue;\n",
        "            contacts.push_back({line.substr(1, comma - 2), line.substr(comma + 2, line.size() - comma - 3)});\n",
        "        }\n",
        "    }\n",
        "}\n",
        "\n",
        "int main(int argc, char **argv) {\n",
        "    MPI_Init(&argc, &argv);\n",
        "    int rank, size;\n",
        "    MPI_Comm_rank(MPI_COMM_WORLD, &rank);\n",
        "    MPI_Comm_size(MPI_COMM_WORLD, &size);\n",
        "\n",
        "    if (argc < 3) {\n",
        "        if (rank == 0)\n",
        "            cerr << \"Usage: mpirun -n <procs> \" << argv[0] << \" <file>... <search>\\n\";\n",
        "        MPI_Finalize();\n",
        "        return 1;\n",
        "    }\n",
        "\n",
        "    string search_term = argv[argc - 1];\n",
        "    double start, end;\n",
        "\n",
        "    if (rank == 0) {\n",
        "        vector<string> files(argv + 1, argv + argc - 1);\n",
        "        vector<Contact> contacts;\n",
        "        read_phonebook(files, contacts);\n",
        "\n",
        "        int total = contacts.size();\n",
        "        int chunk = (total + size - 1) / size;\n",
        "\n",
        "        for (int i = 1; i < size; i++) {\n",
        "            string text = vector_to_string(contacts, i * chunk, (i + 1) * chunk);\n",
        "            send_string(text, i);\n",
        "        }\n",
        "\n",
        "        start = MPI_Wtime();\n",
        "        string result;\n",
        "\n",
        "        for (int i = 0; i < min(chunk, total); i++) {\n",
        "            string match = check(contacts[i], search_term);\n",
        "            if (!match.empty()) result += match;\n",
        "        }\n",
        "\n",
        "        end = MPI_Wtime();\n",
        "\n",
        "        for (int i = 1; i < size; i++) {\n",
        "            string recv = receive_string(i);\n",
        "            if (!recv.empty()) result += recv;\n",
        "        }\n",
        "\n",
        "        ofstream out(\"output.txt\");\n",
        "        out << result;\n",
        "        out.close();\n",
        "        printf(\"Process %d took %f seconds.\\n\", rank, end - start);\n",
        "\n",
        "    } else {\n",
        "        string recv_text = receive_string(0);\n",
        "        vector<Contact> contacts = string_to_contacts(recv_text);\n",
        "        start = MPI_Wtime();\n",
        "        string result;\n",
        "\n",
        "        for (auto &c : contacts) {\n",
        "            string match = check(c, search_term);\n",
        "            if (!match.empty()) result += match;\n",
        "        }\n",
        "\n",
        "        end = MPI_Wtime();\n",
        "        send_string(result, 0);\n",
        "        printf(\"Process %d took %f seconds.\\n\", rank, end - start);\n",
        "    }\n",
        "\n",
        "    MPI_Finalize();\n",
        "    return 0;\n",
        "}"
      ]
    },
    {
      "cell_type": "code",
      "source": [
        "!mpic++ -o search phonebook_search.cpp"
      ],
      "metadata": {
        "id": "FVynwbEuxRYD"
      },
      "execution_count": 3,
      "outputs": []
    },
    {
      "cell_type": "code",
      "source": [
        "!mpirun --allow-run-as-root -np 1 ./search input.txt AKTER"
      ],
      "metadata": {
        "colab": {
          "base_uri": "https://localhost:8080/"
        },
        "id": "NoqflgXTxZCs",
        "outputId": "e72078b5-949a-4fb8-df0e-53a06db474d0"
      },
      "execution_count": 6,
      "outputs": [
        {
          "output_type": "stream",
          "name": "stdout",
          "text": [
            "Process 0 took 0.000009 seconds.\n"
          ]
        }
      ]
    }
  ]
}